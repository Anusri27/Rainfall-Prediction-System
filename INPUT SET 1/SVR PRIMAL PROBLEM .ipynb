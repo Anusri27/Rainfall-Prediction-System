{
 "cells": [
  {
   "cell_type": "code",
   "execution_count": 28,
   "metadata": {},
   "outputs": [],
   "source": [
    "import pandas as pd\n",
    "import numpy as np\n",
    "import matplotlib.pyplot as plt\n",
    "from sklearn.preprocessing import MinMaxScaler\n",
    "import tensorflow as tf\n",
    "from sklearn.metrics import mean_squared_error, mean_absolute_error"
   ]
  },
  {
   "cell_type": "code",
   "execution_count": 29,
   "metadata": {},
   "outputs": [],
   "source": [
    "df = pd.read_excel(\"INPUT SET 1.xlsx\")"
   ]
  },
  {
   "cell_type": "code",
   "execution_count": 30,
   "metadata": {},
   "outputs": [],
   "source": [
    "# splitting the remaining data in training data and validation data. \n",
    "from sklearn.model_selection import train_test_split\n",
    "df_train, df_test = train_test_split(df, test_size=0.3, shuffle = False)"
   ]
  },
  {
   "cell_type": "code",
   "execution_count": 31,
   "metadata": {},
   "outputs": [],
   "source": [
    "df_train.index = range(df_train.shape[0])\n",
    "df_test.index = range(df_test.shape[0])"
   ]
  },
  {
   "cell_type": "code",
   "execution_count": 32,
   "metadata": {},
   "outputs": [],
   "source": [
    "# Scaling the data using MinMax Scaler.\n",
    "scaler = MinMaxScaler()\n",
    "X_train = scaler.fit_transform(df_train.drop([\"Month4\"],axis=1).values)\n",
    "Y_train = scaler.fit_transform(df_train[\"Month4\"].values.reshape(-1,1))\n",
    "X_test = scaler.fit_transform(df_test.drop([\"Month4\"],axis=1).values)\n",
    "Y_test = scaler.fit_transform(df_test[\"Month4\"].values.reshape(-1,1))"
   ]
  },
  {
   "cell_type": "code",
   "execution_count": 33,
   "metadata": {},
   "outputs": [
    {
     "name": "stdout",
     "output_type": "stream",
     "text": [
      "(963, 3)\n",
      "(963, 1)\n",
      "(414, 3)\n",
      "(414, 1)\n"
     ]
    }
   ],
   "source": [
    "print(X_train.shape)\n",
    "print(Y_train.shape)\n",
    "print(X_test.shape)\n",
    "print(Y_test.shape)"
   ]
  },
  {
   "cell_type": "code",
   "execution_count": 34,
   "metadata": {},
   "outputs": [],
   "source": [
    "# function to denormalise the predicted values.\n",
    "def denormalize(df,norm_data):\n",
    "    df = df[\"Month4\"].values.reshape(-1,1)\n",
    "    norm_data = norm_data.reshape(-1,1)\n",
    "    scl = MinMaxScaler()\n",
    "    a = scl.fit_transform(df)\n",
    "    new = scl.inverse_transform(norm_data)\n",
    "    \n",
    "    return new"
   ]
  },
  {
   "cell_type": "code",
   "execution_count": 35,
   "metadata": {},
   "outputs": [],
   "source": [
    "# definition for svr model (primal problem using linear kernel) using tensorflow."
   ]
  },
  {
   "cell_type": "code",
   "execution_count": 36,
   "metadata": {},
   "outputs": [],
   "source": [
    "# variables required for model creation.\n",
    "x_data = tf.placeholder(shape=[None, 3], dtype=tf.float32)\n",
    "y_target = tf.placeholder(shape=[None,1], dtype = tf.float32)\n",
    "W = tf.Variable(tf.random_normal(shape=[3,1]))\n",
    "b = tf.Variable(tf.random_normal(shape=[1,1]))"
   ]
  },
  {
   "cell_type": "code",
   "execution_count": 37,
   "metadata": {},
   "outputs": [],
   "source": [
    "# output equation of linear regression model i.e. y_predicted = X_data.W + b\n",
    "y_predicted = tf.add(tf.matmul(x_data, W), b)"
   ]
  },
  {
   "cell_type": "code",
   "execution_count": 38,
   "metadata": {},
   "outputs": [],
   "source": [
    "# loss function = mean(max(0, |y_predicted-y_target|-E))\n",
    "epsilon = tf.constant([0.01])\n",
    "cost = tf.reduce_mean(tf.maximum(0., tf.subtract(tf.abs(tf.subtract(y_predicted, y_target)), epsilon)))"
   ]
  },
  {
   "cell_type": "code",
   "execution_count": 39,
   "metadata": {},
   "outputs": [],
   "source": [
    "# Using Gradient Descent as the optimization algorithm.\n",
    "train = tf.train.GradientDescentOptimizer(0.01).minimize(cost)"
   ]
  },
  {
   "cell_type": "code",
   "execution_count": 40,
   "metadata": {},
   "outputs": [],
   "source": [
    "train_loss = []\n",
    "test_loss = [] \n",
    "batch_size = 100"
   ]
  },
  {
   "cell_type": "code",
   "execution_count": 41,
   "metadata": {},
   "outputs": [
    {
     "name": "stdout",
     "output_type": "stream",
     "text": [
      "Epoch : 0 Training Cost : 0.23016697\n",
      "Epoch : 1 Training Cost : 0.16499904\n",
      "Epoch : 2 Training Cost : 0.14787214\n",
      "Epoch : 3 Training Cost : 0.14318283\n",
      "Epoch : 4 Training Cost : 0.13470076\n",
      "Epoch : 5 Training Cost : 0.1173026\n",
      "Epoch : 6 Training Cost : 0.1121606\n",
      "Epoch : 7 Training Cost : 0.102931485\n",
      "Epoch : 8 Training Cost : 0.09481177\n",
      "Epoch : 9 Training Cost : 0.08939778\n",
      "Epoch : 10 Training Cost : 0.08793908\n",
      "Epoch : 11 Training Cost : 0.08529181\n",
      "Epoch : 12 Training Cost : 0.08568802\n",
      "Epoch : 13 Training Cost : 0.0850366\n",
      "Epoch : 14 Training Cost : 0.086418174\n",
      "Epoch : 15 Training Cost : 0.0846269\n",
      "Epoch : 16 Training Cost : 0.085185215\n",
      "Epoch : 17 Training Cost : 0.08471682\n",
      "Epoch : 18 Training Cost : 0.08630319\n",
      "Epoch : 19 Training Cost : 0.08569425\n",
      "Epoch : 20 Training Cost : 0.08450595\n",
      "Epoch : 21 Training Cost : 0.08552001\n",
      "Epoch : 22 Training Cost : 0.08546265\n",
      "Epoch : 23 Training Cost : 0.08863217\n",
      "Epoch : 24 Training Cost : 0.09152445\n",
      "Epoch : 25 Training Cost : 0.08533155\n",
      "Epoch : 26 Training Cost : 0.08553549\n",
      "Epoch : 27 Training Cost : 0.08496736\n",
      "Epoch : 28 Training Cost : 0.08718867\n",
      "Epoch : 29 Training Cost : 0.088449955\n",
      "Epoch : 30 Training Cost : 0.08458936\n",
      "Epoch : 31 Training Cost : 0.08608746\n",
      "Epoch : 32 Training Cost : 0.084935516\n",
      "Epoch : 33 Training Cost : 0.085436754\n",
      "Epoch : 34 Training Cost : 0.084915645\n",
      "Epoch : 35 Training Cost : 0.08461356\n",
      "Epoch : 36 Training Cost : 0.088281564\n",
      "Epoch : 37 Training Cost : 0.08496679\n",
      "Epoch : 38 Training Cost : 0.08785756\n",
      "Epoch : 39 Training Cost : 0.084526025\n",
      "Epoch : 40 Training Cost : 0.08523722\n",
      "Epoch : 41 Training Cost : 0.08516525\n",
      "Epoch : 42 Training Cost : 0.085500985\n",
      "Epoch : 43 Training Cost : 0.085149206\n",
      "Epoch : 44 Training Cost : 0.09023034\n",
      "Epoch : 45 Training Cost : 0.08536408\n",
      "Epoch : 46 Training Cost : 0.08772418\n",
      "Epoch : 47 Training Cost : 0.08453414\n",
      "Epoch : 48 Training Cost : 0.084313676\n",
      "Epoch : 49 Training Cost : 0.08421717\n",
      "Epoch : 50 Training Cost : 0.084353164\n",
      "Epoch : 51 Training Cost : 0.08434042\n",
      "Epoch : 52 Training Cost : 0.086403735\n",
      "Epoch : 53 Training Cost : 0.092492126\n",
      "Epoch : 54 Training Cost : 0.08602475\n",
      "Epoch : 55 Training Cost : 0.08448704\n",
      "Epoch : 56 Training Cost : 0.08474767\n",
      "Epoch : 57 Training Cost : 0.0920123\n",
      "Epoch : 58 Training Cost : 0.08525664\n",
      "Epoch : 59 Training Cost : 0.08584704\n",
      "Epoch : 60 Training Cost : 0.084360465\n",
      "Epoch : 61 Training Cost : 0.084448434\n",
      "Epoch : 62 Training Cost : 0.10215402\n",
      "Epoch : 63 Training Cost : 0.08596578\n",
      "Epoch : 64 Training Cost : 0.0857395\n",
      "Epoch : 65 Training Cost : 0.084344\n",
      "Epoch : 66 Training Cost : 0.08447032\n",
      "Epoch : 67 Training Cost : 0.08882732\n",
      "Epoch : 68 Training Cost : 0.08553845\n",
      "Epoch : 69 Training Cost : 0.086596146\n",
      "Epoch : 70 Training Cost : 0.08564144\n",
      "Epoch : 71 Training Cost : 0.08579373\n",
      "Epoch : 72 Training Cost : 0.08525779\n",
      "Epoch : 73 Training Cost : 0.09004871\n",
      "Epoch : 74 Training Cost : 0.08456225\n",
      "Epoch : 75 Training Cost : 0.08515745\n",
      "Epoch : 76 Training Cost : 0.085501865\n",
      "Epoch : 77 Training Cost : 0.0843351\n",
      "Epoch : 78 Training Cost : 0.08775945\n",
      "Epoch : 79 Training Cost : 0.086605996\n",
      "Epoch : 80 Training Cost : 0.091341235\n",
      "Epoch : 81 Training Cost : 0.08503444\n",
      "Epoch : 82 Training Cost : 0.08693408\n",
      "Epoch : 83 Training Cost : 0.08442349\n",
      "Epoch : 84 Training Cost : 0.09085156\n",
      "Epoch : 85 Training Cost : 0.09067157\n",
      "Epoch : 86 Training Cost : 0.086446494\n",
      "Epoch : 87 Training Cost : 0.093039036\n",
      "Epoch : 88 Training Cost : 0.08981253\n",
      "Epoch : 89 Training Cost : 0.08445286\n",
      "Epoch : 90 Training Cost : 0.08467157\n",
      "Epoch : 91 Training Cost : 0.08466503\n",
      "Epoch : 92 Training Cost : 0.08647335\n",
      "Epoch : 93 Training Cost : 0.10360884\n",
      "Epoch : 94 Training Cost : 0.084566675\n",
      "Epoch : 95 Training Cost : 0.08465351\n",
      "Epoch : 96 Training Cost : 0.08552232\n",
      "Epoch : 97 Training Cost : 0.08634681\n",
      "Epoch : 98 Training Cost : 0.087880984\n",
      "Epoch : 99 Training Cost : 0.09109034\n",
      "Test Data Cost : 0.089607276\n"
     ]
    }
   ],
   "source": [
    "sess = tf.Session()\n",
    "sess.run(tf.global_variables_initializer())\n",
    "\n",
    "#Loop for training the SVR primal model.\n",
    "\n",
    "for i in range(100):\n",
    "        \n",
    "    train_indices = np.random.choice(len(X_train), batch_size, replace=False)\n",
    "    x = X_train[train_indices]\n",
    "    y = Y_train[train_indices]\n",
    "        \n",
    "    for j in range(x.shape[0]):\n",
    "        \n",
    "        sess.run([cost,train],feed_dict={x_data:x[j,:].reshape(1,3), y_target:y[j].reshape(1,1)})\n",
    "            \n",
    "    train_loss.append(sess.run(cost, feed_dict={x_data:X_train,y_target:Y_train}))\n",
    "    test_loss.append(sess.run(cost, feed_dict={x_data:X_test,y_target:Y_test}))\n",
    "    print('Epoch :',i,'Training Cost :',train_loss[i])\n",
    "    #print(sess.run(W).reshape(1,3))\n",
    "        \n",
    "# end of for loop for training the model. \n",
    "\n",
    "print('Test Data Cost :',sess.run(cost, feed_dict={x_data:X_test,y_target:Y_test}))"
   ]
  },
  {
   "cell_type": "code",
   "execution_count": 42,
   "metadata": {},
   "outputs": [],
   "source": [
    "# stores the predicted value for test data using trained SVR model.\n",
    "pred = sess.run(y_predicted, feed_dict={x_data:X_test}) # output comes between 0 to 1."
   ]
  },
  {
   "cell_type": "code",
   "execution_count": 43,
   "metadata": {},
   "outputs": [],
   "source": [
    "# denormalizing our predicted value.\n",
    "y_test = denormalize(df_test, Y_test)\n",
    "pred = denormalize(df_test, pred)"
   ]
  },
  {
   "cell_type": "code",
   "execution_count": 44,
   "metadata": {},
   "outputs": [
    {
     "data": {
      "image/png": "[encoded data removed]",
      "text/plain": [
       "<Figure size 540x324 with 1 Axes>"
      ]
     },
     "metadata": {
      "needs_background": "light"
     },
     "output_type": "display_data"
    }
   ],
   "source": [
    "# plot showing difference between actual test data and predicted test data.\n",
    "plt.figure(figsize=[5*1.5,3*1.5])\n",
    "plt.plot(range(y_test.shape[0]),y_test,label=\"Original Data\")\n",
    "plt.plot(range(y_test.shape[0]),pred,label=\"Predicted Data\")\n",
    "plt.legend(loc='best')\n",
    "plt.ylabel('Amount of Rainfall (in mm)', fontsize=\"14\")\n",
    "plt.xlabel('Time (Months)', fontsize=\"14\")\n",
    "plt.show()"
   ]
  },
  {
   "cell_type": "code",
   "execution_count": 45,
   "metadata": {},
   "outputs": [
    {
     "name": "stdout",
     "output_type": "stream",
     "text": [
      "MAE :  80.14588951546213\n"
     ]
    }
   ],
   "source": [
    "print(\"MAE : \", np.mean(abs(y_test-pred)))"
   ]
  },
  {
   "cell_type": "code",
   "execution_count": 46,
   "metadata": {},
   "outputs": [
    {
     "name": "stdout",
     "output_type": "stream",
     "text": [
      "RMSE :  123.11229056421833\n"
     ]
    }
   ],
   "source": [
    "print(\"RMSE : \", np.sqrt(np.mean(np.square(y_test-pred))))"
   ]
  },
  {
   "cell_type": "code",
   "execution_count": null,
   "metadata": {},
   "outputs": [],
   "source": []
  },
  {
   "cell_type": "code",
   "execution_count": null,
   "metadata": {},
   "outputs": [],
   "source": []
  }
 ],
 "metadata": {
  "kernelspec": {
   "display_name": "Python 3",
   "language": "python",
   "name": "python3"
  },
  "language_info": {
   "codemirror_mode": {
    "name": "ipython",
    "version": 3
   },
   "file_extension": ".py",
   "mimetype": "text/x-python",
   "name": "python",
   "nbconvert_exporter": "python",
   "pygments_lexer": "ipython3",
   "version": "3.7.3"
  }
 },
 "nbformat": 4,
 "nbformat_minor": 2
}
