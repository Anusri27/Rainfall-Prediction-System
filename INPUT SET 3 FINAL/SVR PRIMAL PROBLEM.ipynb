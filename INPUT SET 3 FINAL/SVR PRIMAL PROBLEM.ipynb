{
 "cells": [
  {
   "cell_type": "code",
   "execution_count": 1,
   "metadata": {},
   "outputs": [],
   "source": [
    "import pandas as pd\n",
    "import numpy as np\n",
    "import matplotlib.pyplot as plt\n",
    "from sklearn.preprocessing import MinMaxScaler\n",
    "import tensorflow as tf\n",
    "from sklearn.metrics import mean_squared_error, mean_absolute_error"
   ]
  },
  {
   "cell_type": "code",
   "execution_count": 2,
   "metadata": {},
   "outputs": [],
   "source": [
    "df = pd.read_excel(\"Inputset3.xlsx\")"
   ]
  },
  {
   "cell_type": "code",
   "execution_count": 3,
   "metadata": {},
   "outputs": [],
   "source": [
    "# splitting the remaining data in training data and validation data. \n",
    "from sklearn.model_selection import train_test_split\n",
    "df_train, df_test = train_test_split(df, test_size=0.3, shuffle = False)"
   ]
  },
  {
   "cell_type": "code",
   "execution_count": 4,
   "metadata": {},
   "outputs": [],
   "source": [
    "df_train.index = range(df_train.shape[0])\n",
    "df_test.index = range(df_test.shape[0])"
   ]
  },
  {
   "cell_type": "code",
   "execution_count": 5,
   "metadata": {},
   "outputs": [],
   "source": [
    "# Scaling the data using MinMax Scaler.\n",
    "scaler = MinMaxScaler()\n",
    "X_train = scaler.fit_transform(df_train.drop([\"Y\"],axis=1).values)\n",
    "Y_train = scaler.fit_transform(df_train[\"Y\"].values.reshape(-1,1))\n",
    "X_test = scaler.fit_transform(df_test.drop([\"Y\"],axis=1).values)\n",
    "Y_test = scaler.fit_transform(df_test[\"Y\"].values.reshape(-1,1))"
   ]
  },
  {
   "cell_type": "code",
   "execution_count": 6,
   "metadata": {},
   "outputs": [
    {
     "name": "stdout",
     "output_type": "stream",
     "text": [
      "(940, 4)\n",
      "(940, 1)\n",
      "(404, 4)\n",
      "(404, 1)\n"
     ]
    }
   ],
   "source": [
    "print(X_train.shape)\n",
    "print(Y_train.shape)\n",
    "print(X_test.shape)\n",
    "print(Y_test.shape)"
   ]
  },
  {
   "cell_type": "code",
   "execution_count": 7,
   "metadata": {},
   "outputs": [],
   "source": [
    "# function to denormalise the predicted values.\n",
    "def denormalize(df,norm_data):\n",
    "    df = df[\"Y\"].values.reshape(-1,1)\n",
    "    norm_data = norm_data.reshape(-1,1)\n",
    "    scl = MinMaxScaler()\n",
    "    a = scl.fit_transform(df)\n",
    "    new = scl.inverse_transform(norm_data)\n",
    "    \n",
    "    return new"
   ]
  },
  {
   "cell_type": "code",
   "execution_count": 8,
   "metadata": {},
   "outputs": [],
   "source": [
    "# definition for svr model (primal problem using linear kernel) using tensorflow."
   ]
  },
  {
   "cell_type": "code",
   "execution_count": 8,
   "metadata": {},
   "outputs": [],
   "source": [
    "# variables required for model creation.\n",
    "x_data = tf.placeholder(shape=[None, 4], dtype=tf.float32)\n",
    "y_target = tf.placeholder(shape=[None,1], dtype = tf.float32)\n",
    "W = tf.Variable(tf.random_normal(shape=[4,1]))\n",
    "b = tf.Variable(tf.random_normal(shape=[1,1]))"
   ]
  },
  {
   "cell_type": "code",
   "execution_count": 9,
   "metadata": {},
   "outputs": [],
   "source": [
    "# output equation of linear regression model i.e. y_predicted = X_data.W + b\n",
    "y_predicted = tf.add(tf.matmul(x_data, W), b)"
   ]
  },
  {
   "cell_type": "code",
   "execution_count": 10,
   "metadata": {},
   "outputs": [],
   "source": [
    "# loss function = mean(max(0, |y_predicted-y_target|-E))\n",
    "epsilon = tf.constant([0.01])\n",
    "cost = tf.reduce_mean(tf.maximum(0., tf.subtract(tf.abs(tf.subtract(y_predicted, y_target)), epsilon)))"
   ]
  },
  {
   "cell_type": "code",
   "execution_count": 11,
   "metadata": {},
   "outputs": [
    {
     "name": "stderr",
     "output_type": "stream",
     "text": [
      "WARNING: Logging before flag parsing goes to stderr.\n",
      "W0229 15:43:26.729128 10036 deprecation.py:323] From c:\\users\\win10\\appdata\\local\\programs\\python\\python37\\lib\\site-packages\\tensorflow\\python\\ops\\math_grad.py:1250: add_dispatch_support.<locals>.wrapper (from tensorflow.python.ops.array_ops) is deprecated and will be removed in a future version.\n",
      "Instructions for updating:\n",
      "Use tf.where in 2.0, which has the same broadcast rule as np.where\n"
     ]
    }
   ],
   "source": [
    "# Using Gradient Descent as the optimization algorithm.\n",
    "train = tf.train.GradientDescentOptimizer(0.01).minimize(cost)"
   ]
  },
  {
   "cell_type": "code",
   "execution_count": 12,
   "metadata": {},
   "outputs": [],
   "source": [
    "train_loss = []\n",
    "test_loss = [] \n",
    "batch_size = 200"
   ]
  },
  {
   "cell_type": "code",
   "execution_count": 14,
   "metadata": {},
   "outputs": [
    {
     "name": "stdout",
     "output_type": "stream",
     "text": [
      "Epoch : 0 Training Cost : 0.16886446\n",
      "Epoch : 1 Training Cost : 0.15490596\n",
      "Epoch : 2 Training Cost : 0.14087845\n",
      "Epoch : 3 Training Cost : 0.1354179\n",
      "Epoch : 4 Training Cost : 0.1266084\n",
      "Epoch : 5 Training Cost : 0.12187747\n",
      "Epoch : 6 Training Cost : 0.11461066\n",
      "Epoch : 7 Training Cost : 0.11109683\n",
      "Epoch : 8 Training Cost : 0.10760854\n",
      "Epoch : 9 Training Cost : 0.10198817\n",
      "Epoch : 10 Training Cost : 0.09581558\n",
      "Epoch : 11 Training Cost : 0.09247106\n",
      "Epoch : 12 Training Cost : 0.08754153\n",
      "Epoch : 13 Training Cost : 0.08466041\n",
      "Epoch : 14 Training Cost : 0.09535509\n",
      "Epoch : 15 Training Cost : 0.07627881\n",
      "Epoch : 16 Training Cost : 0.082784\n",
      "Epoch : 17 Training Cost : 0.07603107\n",
      "Epoch : 18 Training Cost : 0.06872017\n",
      "Epoch : 19 Training Cost : 0.06602398\n",
      "Epoch : 20 Training Cost : 0.06718833\n",
      "Epoch : 21 Training Cost : 0.06950227\n",
      "Epoch : 22 Training Cost : 0.095531516\n",
      "Epoch : 23 Training Cost : 0.060180724\n",
      "Epoch : 24 Training Cost : 0.059883725\n",
      "Epoch : 25 Training Cost : 0.058179814\n",
      "Epoch : 26 Training Cost : 0.0578322\n",
      "Epoch : 27 Training Cost : 0.057257853\n",
      "Epoch : 28 Training Cost : 0.059554093\n",
      "Epoch : 29 Training Cost : 0.058946233\n",
      "Epoch : 30 Training Cost : 0.056987774\n",
      "Epoch : 31 Training Cost : 0.056958597\n",
      "Epoch : 32 Training Cost : 0.06037772\n",
      "Epoch : 33 Training Cost : 0.063442275\n",
      "Epoch : 34 Training Cost : 0.054880094\n",
      "Epoch : 35 Training Cost : 0.055248253\n",
      "Epoch : 36 Training Cost : 0.05618045\n",
      "Epoch : 37 Training Cost : 0.05556143\n",
      "Epoch : 38 Training Cost : 0.05899459\n",
      "Epoch : 39 Training Cost : 0.055338696\n",
      "Epoch : 40 Training Cost : 0.055101886\n",
      "Epoch : 41 Training Cost : 0.05626625\n",
      "Epoch : 42 Training Cost : 0.059344925\n",
      "Epoch : 43 Training Cost : 0.057242244\n",
      "Epoch : 44 Training Cost : 0.055050053\n",
      "Epoch : 45 Training Cost : 0.05976523\n",
      "Epoch : 46 Training Cost : 0.055632766\n",
      "Epoch : 47 Training Cost : 0.055422556\n",
      "Epoch : 48 Training Cost : 0.06066404\n",
      "Epoch : 49 Training Cost : 0.056112237\n",
      "Epoch : 50 Training Cost : 0.055330176\n",
      "Epoch : 51 Training Cost : 0.056395955\n",
      "Epoch : 52 Training Cost : 0.060774006\n",
      "Epoch : 53 Training Cost : 0.054628924\n",
      "Epoch : 54 Training Cost : 0.054628856\n",
      "Epoch : 55 Training Cost : 0.055036683\n",
      "Epoch : 56 Training Cost : 0.058836844\n",
      "Epoch : 57 Training Cost : 0.054867946\n",
      "Epoch : 58 Training Cost : 0.057151787\n",
      "Epoch : 59 Training Cost : 0.055371016\n",
      "Epoch : 60 Training Cost : 0.054724734\n",
      "Epoch : 61 Training Cost : 0.060123503\n",
      "Epoch : 62 Training Cost : 0.05560775\n",
      "Epoch : 63 Training Cost : 0.05517559\n",
      "Epoch : 64 Training Cost : 0.054721728\n",
      "Epoch : 65 Training Cost : 0.06384195\n",
      "Epoch : 66 Training Cost : 0.05577673\n",
      "Epoch : 67 Training Cost : 0.054713152\n",
      "Epoch : 68 Training Cost : 0.054650567\n",
      "Epoch : 69 Training Cost : 0.054765977\n",
      "Epoch : 70 Training Cost : 0.061770044\n",
      "Epoch : 71 Training Cost : 0.05465097\n",
      "Epoch : 72 Training Cost : 0.05993056\n",
      "Epoch : 73 Training Cost : 0.05496709\n",
      "Epoch : 74 Training Cost : 0.057182033\n",
      "Epoch : 75 Training Cost : 0.057216205\n",
      "Epoch : 76 Training Cost : 0.05744516\n",
      "Epoch : 77 Training Cost : 0.054523103\n",
      "Epoch : 78 Training Cost : 0.062150903\n",
      "Epoch : 79 Training Cost : 0.054537002\n",
      "Epoch : 80 Training Cost : 0.055342875\n",
      "Epoch : 81 Training Cost : 0.055865195\n",
      "Epoch : 82 Training Cost : 0.056728784\n",
      "Epoch : 83 Training Cost : 0.054664526\n",
      "Epoch : 84 Training Cost : 0.056240525\n",
      "Epoch : 85 Training Cost : 0.06535837\n",
      "Epoch : 86 Training Cost : 0.05807612\n",
      "Epoch : 87 Training Cost : 0.055701744\n",
      "Epoch : 88 Training Cost : 0.060449153\n",
      "Epoch : 89 Training Cost : 0.056143917\n",
      "Epoch : 90 Training Cost : 0.05645382\n",
      "Epoch : 91 Training Cost : 0.054929867\n",
      "Epoch : 92 Training Cost : 0.05449689\n",
      "Epoch : 93 Training Cost : 0.060161963\n",
      "Epoch : 94 Training Cost : 0.05448133\n",
      "Epoch : 95 Training Cost : 0.054843053\n",
      "Epoch : 96 Training Cost : 0.0578715\n",
      "Epoch : 97 Training Cost : 0.057518113\n",
      "Epoch : 98 Training Cost : 0.061906137\n",
      "Epoch : 99 Training Cost : 0.055281695\n",
      "Test Data Cost : 0.05911561\n"
     ]
    }
   ],
   "source": [
    "sess = tf.Session()\n",
    "sess.run(tf.global_variables_initializer())\n",
    "\n",
    "#Loop for training the SVR primal model.\n",
    "\n",
    "for i in range(100):\n",
    "        \n",
    "    train_indices = np.random.choice(len(X_train), batch_size, replace=False)\n",
    "    x = X_train[train_indices]\n",
    "    y = Y_train[train_indices]\n",
    "        \n",
    "    for j in range(x.shape[0]):\n",
    "        \n",
    "        sess.run([cost,train],feed_dict={x_data:x[j,:].reshape(1,4), y_target:y[j].reshape(1,1)})\n",
    "            \n",
    "    train_loss.append(sess.run(cost, feed_dict={x_data:X_train,y_target:Y_train}))\n",
    "    test_loss.append(sess.run(cost, feed_dict={x_data:X_test,y_target:Y_test}))\n",
    "    print('Epoch :',i,'Training Cost :',train_loss[i])\n",
    "    #print(sess.run(W).reshape(1,3))\n",
    "        \n",
    "# end of for loop for training the model. \n",
    "\n",
    "print('Test Data Cost :',sess.run(cost, feed_dict={x_data:X_test,y_target:Y_test}))"
   ]
  },
  {
   "cell_type": "code",
   "execution_count": 15,
   "metadata": {},
   "outputs": [],
   "source": [
    "# stores the predicted value for test data using trained SVR model.\n",
    "pred = sess.run(y_predicted, feed_dict={x_data:X_test}) # output comes between 0 to 1."
   ]
  },
  {
   "cell_type": "code",
   "execution_count": 16,
   "metadata": {},
   "outputs": [],
   "source": [
    "# denormalizing our predicted value.\n",
    "y_test = denormalize(df_test, Y_test)\n",
    "pred = denormalize(df_test, pred)"
   ]
  },
  {
   "cell_type": "code",
   "execution_count": 17,
   "metadata": {},
   "outputs": [
    {
     "data": {
      "image/png": "[encoded data removed]",
      "text/plain": [
       "<Figure size 540x324 with 1 Axes>"
      ]
     },
     "metadata": {
      "needs_background": "light"
     },
     "output_type": "display_data"
    }
   ],
   "source": [
    "# plot showing difference between actual test data and predicted test data.\n",
    "plt.figure(figsize=[5*1.5,3*1.5])\n",
    "plt.plot(range(y_test.shape[0]),y_test,label=\"Original Data\")\n",
    "plt.plot(range(y_test.shape[0]),pred,label=\"Predicted Data\")\n",
    "plt.legend(loc='best')\n",
    "plt.ylabel('Amount of Rainfall (in mm)', fontsize=\"14\")\n",
    "plt.xlabel('Time (Months)', fontsize=\"14\")\n",
    "plt.show()"
   ]
  },
  {
   "cell_type": "code",
   "execution_count": 18,
   "metadata": {},
   "outputs": [
    {
     "name": "stdout",
     "output_type": "stream",
     "text": [
      "MAE :  54.777541304837065\n"
     ]
    }
   ],
   "source": [
    "print(\"MAE : \", np.mean(abs(y_test-pred)))"
   ]
  },
  {
   "cell_type": "code",
   "execution_count": 19,
   "metadata": {},
   "outputs": [
    {
     "name": "stdout",
     "output_type": "stream",
     "text": [
      "RMSE :  95.24667315678802\n"
     ]
    }
   ],
   "source": [
    "print(\"RMSE : \", np.sqrt(np.mean(np.square(y_test-pred))))"
   ]
  },
  {
   "cell_type": "code",
   "execution_count": null,
   "metadata": {},
   "outputs": [],
   "source": []
  }
 ],
 "metadata": {
  "kernelspec": {
   "display_name": "Python 3",
   "language": "python",
   "name": "python3"
  },
  "language_info": {
   "codemirror_mode": {
    "name": "ipython",
    "version": 3
   },
   "file_extension": ".py",
   "mimetype": "text/x-python",
   "name": "python",
   "nbconvert_exporter": "python",
   "pygments_lexer": "ipython3",
   "version": "3.7.3"
  }
 },
 "nbformat": 4,
 "nbformat_minor": 2
}
